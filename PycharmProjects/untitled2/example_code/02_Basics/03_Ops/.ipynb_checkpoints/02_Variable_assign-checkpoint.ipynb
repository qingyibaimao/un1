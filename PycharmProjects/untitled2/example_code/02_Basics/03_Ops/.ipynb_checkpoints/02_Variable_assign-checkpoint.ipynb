{
 "cells": [
  {
   "cell_type": "code",
   "execution_count": 8,
   "metadata": {
    "collapsed": false
   },
   "outputs": [
    {
     "name": "stdout",
     "output_type": "stream",
     "text": [
      "0\n",
      "2\n",
      "4\n",
      "6\n"
     ]
    }
   ],
   "source": [
    "import tensorflow as tf\n",
    "# －创建一个变量, 初始化为标量 0.  初始化定义初值\n",
    "A = tf.Variable(0, name=\"counter\")\n",
    "\n",
    "# 创建一个 op, 其作用是使 A 增加 2\n",
    "new_value = tf.add(A, 2)\n",
    "update = tf.assign(A, new_value)\n",
    "\n",
    "# 启动图 变量初始化\n",
    "init_op = tf.global_variables_initializer()\n",
    "\n",
    "# 启动默认图, 运行 op\n",
    "with tf.Session() as sess:\n",
    "    sess.run(init_op)\n",
    "\n",
    "#打印初始值\n",
    "#with tf.Session() as sess:\n",
    "    print(sess.run(A))\n",
    "\n",
    "# 重新赋值, 更新并打印\n",
    "    for _ in range(3):\n",
    "        sess.run(update)\n",
    "        print(sess.run(A))"
   ]
  },
  {
   "cell_type": "code",
   "execution_count": null,
   "metadata": {
    "collapsed": true
   },
   "outputs": [],
   "source": []
  }
 ],
 "metadata": {
  "anaconda-cloud": {},
  "kernelspec": {
   "display_name": "Python [default]",
   "language": "python",
   "name": "python3"
  },
  "language_info": {
   "codemirror_mode": {
    "name": "ipython",
    "version": 3
   },
   "file_extension": ".py",
   "mimetype": "text/x-python",
   "name": "python",
   "nbconvert_exporter": "python",
   "pygments_lexer": "ipython3",
   "version": "3.5.2"
  }
 },
 "nbformat": 4,
 "nbformat_minor": 1
}
