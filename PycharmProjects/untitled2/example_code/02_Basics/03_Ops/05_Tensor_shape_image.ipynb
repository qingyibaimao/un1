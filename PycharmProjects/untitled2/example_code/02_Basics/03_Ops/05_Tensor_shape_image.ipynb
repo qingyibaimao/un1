{
 "cells": [
  {
   "cell_type": "code",
   "execution_count": 6,
   "metadata": {
    "collapsed": false
   },
   "outputs": [
    {
     "name": "stdout",
     "output_type": "stream",
     "text": [
      "(201, 268, 4)\n"
     ]
    }
   ],
   "source": [
    "import matplotlib.image as mpimg\n",
    "import tensorflow as tf\n",
    "\n",
    "filename = \"example_image.jpg\"  \n",
    "image = mpimg.imread(filename)\n",
    "\n",
    "#创建tensorflow变量  \n",
    "x = tf.Variable(image,name='x')  \n",
    "  \n",
    "model = tf.global_variables_initializer()  \n",
    "  \n",
    "with tf.Session() as session:\n",
    "    session.run(model)  \n",
    "    result = session.run(x)  \n",
    "#image.set_shape([28, 28, 3])\n",
    "    print(x.get_shape())"
   ]
  },
  {
   "cell_type": "code",
   "execution_count": null,
   "metadata": {
    "collapsed": true
   },
   "outputs": [],
   "source": []
  }
 ],
 "metadata": {
  "anaconda-cloud": {},
  "kernelspec": {
   "display_name": "Python [default]",
   "language": "python",
   "name": "python3"
  },
  "language_info": {
   "codemirror_mode": {
    "name": "ipython",
    "version": 3
   },
   "file_extension": ".py",
   "mimetype": "text/x-python",
   "name": "python",
   "nbconvert_exporter": "python",
   "pygments_lexer": "ipython3",
   "version": "3.5.2"
  }
 },
 "nbformat": 4,
 "nbformat_minor": 1
}
