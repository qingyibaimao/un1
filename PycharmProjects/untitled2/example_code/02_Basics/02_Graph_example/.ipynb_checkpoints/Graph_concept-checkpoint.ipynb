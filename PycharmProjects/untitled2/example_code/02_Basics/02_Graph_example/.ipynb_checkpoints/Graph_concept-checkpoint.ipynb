{
 "cells": [
  {
   "cell_type": "code",
   "execution_count": 1,
   "metadata": {
    "collapsed": false
   },
   "outputs": [
    {
     "name": "stdout",
     "output_type": "stream",
     "text": [
      "[[ 14.]]\n"
     ]
    }
   ],
   "source": [
    "import tensorflow as tf\n",
    "\n",
    "# 创建一个 常量 op, 返回值 'matrix1' 代表这个 1x2 矩阵.\n",
    "matrix1 = tf.constant([[4., 3.]])\n",
    "\n",
    "# 创建另外一个 常量 op, 返回值 'matrix2' 代表这个 2x1 矩阵.\n",
    "matrix2 = tf.constant([[2.],[2.]])\n",
    "\n",
    "# 创建一个矩阵乘法 matmul op , 把 'matrix1' 和 'matrix2' 作为输入.\n",
    "# 返回值 'product' 代表矩阵乘法的结果.\n",
    "product = tf.matmul(matrix1, matrix2)\n",
    "\n",
    "# 启动默认图.\n",
    "sess = tf.Session()\n",
    "\n",
    "# 调用 sess 的 'run()' 方法, 传入 'product' 作为该方法的参数，\n",
    "# 触发了图中三个 op (两个常量 op 和一个矩阵乘法 op)，\n",
    "# 向方法表明, 我们希望取回矩阵乘法 op 的输出.\n",
    "result = sess.run(product)\n",
    "\n",
    "# 返回值 'result' 是一个 numpy `ndarray` 对象.\n",
    "print(result)\n",
    "\n",
    "# 任务完成, 需要关闭会话以释放资源。\n",
    "sess.close()"
   ]
  },
  {
   "cell_type": "code",
   "execution_count": null,
   "metadata": {
    "collapsed": true
   },
   "outputs": [],
   "source": []
  }
 ],
 "metadata": {
  "anaconda-cloud": {},
  "kernelspec": {
   "display_name": "Python [default]",
   "language": "python",
   "name": "python3"
  },
  "language_info": {
   "codemirror_mode": {
    "name": "ipython",
    "version": 3
   },
   "file_extension": ".py",
   "mimetype": "text/x-python",
   "name": "python",
   "nbconvert_exporter": "python",
   "pygments_lexer": "ipython3",
   "version": "3.5.2"
  }
 },
 "nbformat": 4,
 "nbformat_minor": 1
}
