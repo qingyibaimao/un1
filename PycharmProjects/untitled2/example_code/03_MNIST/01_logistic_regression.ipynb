{
 "cells": [
  {
   "cell_type": "code",
   "execution_count": null,
   "metadata": {
    "collapsed": false
   },
   "outputs": [],
   "source": [
    "import tensorflow as tf\n",
    "#from tensorflow.examples.tutorials.mnist import input_data\n",
    "\n",
    "#one_hot 独热编码，也叫一位有效编码。在任意时候只有一位为1，其他位都是0\n",
    "mnist = input_data.read_data_sets(\"MNIST_data/\", one_hot=True)\n",
    "\n",
    "train_images = mnist.train.images\n",
    "train_labels = mnist.train.labels\n",
    "test_images = mnist.test.images\n",
    "test_labels = mnist.test.labels\n",
    "\n",
    "print(\"train_images_shape:\", train_images.shape)\n",
    "print(\"train_labels_shape:\", train_labels.shape)\n",
    "print(\"test_images_shape:\", test_images.shape)\n",
    "print(\"test_labels_shape:\", test_labels.shape)\n",
    "print(\"train_images:\", train_images[0])\n",
    "print(\"train_images_length:\",len(train_images[0]))\n",
    "print(\"train_labels:\", train_labels[0])"
   ]
  },
  {
   "cell_type": "code",
   "execution_count": 4,
   "metadata": {
    "collapsed": false
   },
   "outputs": [
    {
     "name": "stdout",
     "output_type": "stream",
     "text": [
      "[[ 1.0316155   0.42717844  0.85757089  0.06505545]\n",
      " [ 1.83009064  0.02550568  0.64839339  0.8878085 ]\n",
      " [ 1.61110675  0.14987382  0.53058553  0.6369366 ]\n",
      " [ 1.0877887   1.18528986  1.44636965  1.2354629 ]]\n",
      "argmax_0: [1 2 1 0]\n",
      "argmax_1: [3 2 1]\n",
      "reduce_0: [41 37 45 33]\n",
      "reduce_1: [33 56 28]\n",
      "equal_0: False\n",
      "equal_1: True\n",
      "cast_0: 0\n",
      "cast_1: 1.0\n"
     ]
    }
   ],
   "source": [
    "import tensorflow as tf\n",
    "import numpy as np\n",
    "\n",
    "#占位符，适用于不知道具体参数的时候\n",
    "x = tf.placeholder(tf.float32, shape=(4, 4))\n",
    "y = tf.add(x, x)\n",
    "# [1,  32, 44, 56]\n",
    "# [89, 12, 90, 33]\n",
    "# [35, 69, 1,  10]\n",
    "argmax_paramter = tf.Variable([[1, 32, 44, 56], [89, 12, 90, 33], [35, 69, 1, 10]])\n",
    "\n",
    "#最大列索引\n",
    "argmax_0 = tf.argmax(argmax_paramter, 0)\n",
    "#最大行索引\n",
    "argmax_1 = tf.argmax(argmax_paramter, 1)\n",
    "\n",
    "#平均数\n",
    "reduce_0 = tf.reduce_mean(argmax_paramter, reduction_indices=0)\n",
    "reduce_1 = tf.reduce_mean(argmax_paramter, reduction_indices=1)\n",
    "\n",
    "#相等\n",
    "equal_0 = tf.equal(1,2)\n",
    "equal_1 = tf.equal(2,2)\n",
    "\n",
    "#类型转换\n",
    "cast_0 = tf.cast(equal_0,tf.int32)\n",
    "cast_1 = tf.cast(equal_1,tf.float32)\n",
    "\n",
    "with tf.Session() as sess:\n",
    "    init = tf.global_variables_initializer();\n",
    "    sess.run(init)\n",
    "    \n",
    "    rand_array = np.random.rand(4, 4)\n",
    "    print(sess.run(y, feed_dict={x: rand_array}))\n",
    "\n",
    "    print(\"argmax_0:\", sess.run(argmax_0))\n",
    "    print(\"argmax_1:\", sess.run(argmax_1))\n",
    "    print(\"reduce_0:\", sess.run(reduce_0))\n",
    "    print(\"reduce_1:\", sess.run(reduce_1))\n",
    "    print(\"equal_0:\", sess.run(equal_0))\n",
    "    print(\"equal_1:\", sess.run(equal_1))\n",
    "    print(\"cast_0:\", sess.run(cast_0))\n",
    "    print(\"cast_1:\", sess.run(cast_1))"
   ]
  },
  {
   "cell_type": "code",
   "execution_count": 5,
   "metadata": {
    "collapsed": false,
    "scrolled": true
   },
   "outputs": [
    {
     "name": "stdout",
     "output_type": "stream",
     "text": [
      "Extracting MNIST_data/train-images-idx3-ubyte.gz\n",
      "Extracting MNIST_data/train-labels-idx1-ubyte.gz\n",
      "Extracting MNIST_data/t10k-images-idx3-ubyte.gz\n",
      "Extracting MNIST_data/t10k-labels-idx1-ubyte.gz\n",
      "Epoch: 0005 cost= 0.463789419\n",
      "Epoch: 0010 cost= 0.390913828\n",
      "Epoch: 0015 cost= 0.361381259\n",
      "Epoch: 0020 cost= 0.344135567\n",
      "Epoch: 0025 cost= 0.332451645\n",
      "运行完成\n",
      "正确率: 0.9137\n"
     ]
    }
   ],
   "source": [
    "import tensorflow as tf\n",
    "\n",
    "# 导入数据集\n",
    "#from tensorflow.examples.tutorials.mnist import input_data\n",
    "mnist = input_data.read_data_sets(\"MNIST_data/\", one_hot=True)\n",
    "\n",
    "# 变量\n",
    "batch_size = 100\n",
    "\n",
    "#训练的x(image),y(label)\n",
    "# x = tf.Variable()\n",
    "# y = tf.Variable()\n",
    "x = tf.placeholder(tf.float32, [None, 784])\n",
    "y = tf.placeholder(tf.float32, [None, 10])\n",
    "\n",
    "# 模型权重\n",
    "#[55000,784] * W = [55000,10]\n",
    "W = tf.Variable(tf.zeros([784, 10]))\n",
    "b = tf.Variable(tf.zeros([10]))\n",
    "\n",
    "# 用softmax构建逻辑回归模型\n",
    "pred = tf.nn.softmax(tf.matmul(x, W) + b)\n",
    "\n",
    "# 损失函数(交叉熵)\n",
    "cost = tf.reduce_mean(-tf.reduce_sum(y*tf.log(pred), 1))\n",
    "\n",
    "# 低度下降\n",
    "optimizer = tf.train.GradientDescentOptimizer(0.01).minimize(cost)\n",
    "\n",
    "# 初始化所有变量\n",
    "init = tf.global_variables_initializer()\n",
    "\n",
    "# 加载session图\n",
    "with tf.Session() as sess:\n",
    "    sess.run(init)\n",
    "\n",
    "    # 开始训练\n",
    "    for epoch in range(25):\n",
    "        avg_cost = 0.\n",
    "        \n",
    "        total_batch = int(mnist.train.num_examples/batch_size)\n",
    "        for i in range(total_batch):\n",
    "            batch_xs, batch_ys = mnist.train.next_batch(batch_size)\n",
    "            sess.run(optimizer, {x: batch_xs,y: batch_ys})\n",
    "            #计算损失平均值\n",
    "            avg_cost += sess.run(cost,{x: batch_xs,y: batch_ys}) / total_batch\n",
    "        if (epoch+1) % 5 == 0:\n",
    "            print(\"Epoch:\", '%04d' % (epoch+1), \"cost=\", \"{:.9f}\".format(avg_cost))\n",
    "\n",
    "    print(\"运行完成\")\n",
    "\n",
    "    # 测试求正确率\n",
    "    correct = tf.equal(tf.argmax(pred, 1), tf.argmax(y, 1))\n",
    "    accuracy = tf.reduce_mean(tf.cast(correct, tf.float32))\n",
    "    print(\"正确率:\", accuracy.eval({x: mnist.test.images, y: mnist.test.labels}))"
   ]
  },
  {
   "cell_type": "code",
   "execution_count": null,
   "metadata": {
    "collapsed": true
   },
   "outputs": [],
   "source": [
    ""
   ]
  }
 ],
 "metadata": {
  "anaconda-cloud": {},
  "kernelspec": {
   "display_name": "Python [default]",
   "language": "python",
   "name": "python3"
  },
  "language_info": {
   "codemirror_mode": {
    "name": "ipython",
    "version": 3.0
   },
   "file_extension": ".py",
   "mimetype": "text/x-python",
   "name": "python",
   "nbconvert_exporter": "python",
   "pygments_lexer": "ipython3",
   "version": "3.5.2"
  }
 },
 "nbformat": 4,
 "nbformat_minor": 0
}